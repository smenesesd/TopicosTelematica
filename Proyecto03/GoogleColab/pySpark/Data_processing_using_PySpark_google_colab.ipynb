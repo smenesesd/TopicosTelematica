{
  "cells": [
    {
      "cell_type": "markdown",
      "metadata": {
        "id": "LjaJboaRRYT6"
      },
      "source": [
        "# Data Processing using Pyspark"
      ]
    },
    {
      "cell_type": "code",
      "execution_count": 1,
      "metadata": {
        "colab": {
          "base_uri": "https://localhost:8080/"
        },
        "id": "SVjl5W5iRYT9",
        "outputId": "0e6c30f6-9311-4928-f43e-434f44a678e0"
      },
      "outputs": [
        {
          "output_type": "stream",
          "name": "stdout",
          "text": [
            "Mounted at /content/gdrive\n"
          ]
        }
      ],
      "source": [
        "#configuración en google colab de spark y pyspark\n",
        "from google.colab import drive\n",
        "drive.mount('/content/gdrive')"
      ]
    },
    {
      "cell_type": "code",
      "execution_count": 2,
      "metadata": {
        "id": "8X5xBszSRYT-"
      },
      "outputs": [],
      "source": [
        "#instalar java y spark\n",
        "!apt-get install openjdk-11-jdk-headless -qq > /dev/null\n",
        "!wget -q https://downloads.apache.org/spark/spark-3.3.1/spark-3.3.1-bin-hadoop3.tgz\n",
        "!tar xf spark-3.3.1-bin-hadoop3.tgz\n",
        "!pip install -q findspark"
      ]
    },
    {
      "cell_type": "code",
      "execution_count": 3,
      "metadata": {
        "id": "Hdm4CRwtRYT-"
      },
      "outputs": [],
      "source": [
        "import os\n",
        "os.environ[\"JAVA_HOME\"] = \"/usr/lib/jvm/java-11-openjdk-amd64\"\n",
        "os.environ[\"SPARK_HOME\"] = \"/content/spark-3.3.1-bin-hadoop3\""
      ]
    },
    {
      "cell_type": "code",
      "execution_count": 4,
      "metadata": {
        "id": "SmfINJFvRYT_"
      },
      "outputs": [],
      "source": [
        "import findspark\n",
        "findspark.init()\n",
        "from pyspark.sql import SparkSession\n",
        "spark = SparkSession.builder.master(\"local[*]\").getOrCreate()\n",
        "sc = spark.sparkContext"
      ]
    },
    {
      "cell_type": "code",
      "execution_count": 5,
      "metadata": {
        "colab": {
          "base_uri": "https://localhost:8080/",
          "height": 222
        },
        "id": "z_cAEXcmRYT_",
        "outputId": "a057bec6-5c69-42d1-b529-95d7ce598be9"
      },
      "outputs": [
        {
          "output_type": "execute_result",
          "data": {
            "text/plain": [
              "<pyspark.sql.session.SparkSession at 0x7ff3392ed650>"
            ],
            "text/html": [
              "\n",
              "            <div>\n",
              "                <p><b>SparkSession - in-memory</b></p>\n",
              "                \n",
              "        <div>\n",
              "            <p><b>SparkContext</b></p>\n",
              "\n",
              "            <p><a href=\"http://24e970211735:4040\">Spark UI</a></p>\n",
              "\n",
              "            <dl>\n",
              "              <dt>Version</dt>\n",
              "                <dd><code>v3.3.1</code></dd>\n",
              "              <dt>Master</dt>\n",
              "                <dd><code>local[*]</code></dd>\n",
              "              <dt>AppName</dt>\n",
              "                <dd><code>pyspark-shell</code></dd>\n",
              "            </dl>\n",
              "        </div>\n",
              "        \n",
              "            </div>\n",
              "        "
            ]
          },
          "metadata": {},
          "execution_count": 5
        }
      ],
      "source": [
        "spark"
      ]
    },
    {
      "cell_type": "code",
      "execution_count": 6,
      "metadata": {
        "colab": {
          "base_uri": "https://localhost:8080/",
          "height": 199
        },
        "id": "2foF-7K6RYT_",
        "outputId": "d6d7a301-3179-4f25-85c1-af6cfa959b02"
      },
      "outputs": [
        {
          "output_type": "execute_result",
          "data": {
            "text/plain": [
              "<SparkContext master=local[*] appName=pyspark-shell>"
            ],
            "text/html": [
              "\n",
              "        <div>\n",
              "            <p><b>SparkContext</b></p>\n",
              "\n",
              "            <p><a href=\"http://24e970211735:4040\">Spark UI</a></p>\n",
              "\n",
              "            <dl>\n",
              "              <dt>Version</dt>\n",
              "                <dd><code>v3.3.1</code></dd>\n",
              "              <dt>Master</dt>\n",
              "                <dd><code>local[*]</code></dd>\n",
              "              <dt>AppName</dt>\n",
              "                <dd><code>pyspark-shell</code></dd>\n",
              "            </dl>\n",
              "        </div>\n",
              "        "
            ]
          },
          "metadata": {},
          "execution_count": 6
        }
      ],
      "source": [
        "sc"
      ]
    },
    {
      "cell_type": "code",
      "execution_count": 7,
      "metadata": {
        "id": "x0K1jVxBRYUA"
      },
      "outputs": [],
      "source": [
        "# Load csv Dataset \n",
        "#df=spark.read.csv('s3://<bucket/dir>/sample_data.csv',inferSchema=True,header=True)\n",
        "df=spark.read.csv('/content/gdrive/MyDrive/st0263-2266/bigdata/datasets/covid19/Casos_positivos_de_COVID-19_en_Colombia-100K.csv',inferSchema=True,header=True)"
      ]
    },
    {
      "cell_type": "code",
      "execution_count": 8,
      "metadata": {
        "colab": {
          "base_uri": "https://localhost:8080/"
        },
        "id": "NEEUs_GCRYUA",
        "outputId": "51c16c8f-6bb3-42cf-8319-33b13fde6c97"
      },
      "outputs": [
        {
          "output_type": "execute_result",
          "data": {
            "text/plain": [
              "['fecha reporte web',\n",
              " 'ID de caso',\n",
              " 'Fecha de notificación',\n",
              " 'Código DIVIPOLA departamento',\n",
              " 'Nombre departamento',\n",
              " 'Código DIVIPOLA municipio',\n",
              " 'Nombre municipio',\n",
              " 'Edad',\n",
              " 'Unidad de medida de edad',\n",
              " 'Sexo',\n",
              " 'Tipo de contagio',\n",
              " 'Ubicación del caso',\n",
              " 'Estado',\n",
              " 'Código ISO del país',\n",
              " 'Nombre del país',\n",
              " 'Recuperado',\n",
              " 'Fecha de inicio de síntomas',\n",
              " 'Fecha de muerte',\n",
              " 'Fecha de diagnóstico',\n",
              " 'Fecha de recuperación',\n",
              " 'Tipo de recuperación',\n",
              " 'Pertenencia étnica',\n",
              " 'Nombre del grupo étnico']"
            ]
          },
          "metadata": {},
          "execution_count": 8
        }
      ],
      "source": [
        "#columns of dataframe\n",
        "df.columns"
      ]
    },
    {
      "cell_type": "code",
      "execution_count": 9,
      "metadata": {
        "colab": {
          "base_uri": "https://localhost:8080/"
        },
        "id": "5xntWeK2RYUC",
        "outputId": "993d2ec9-d8a8-4ff2-8770-215e624661a9"
      },
      "outputs": [
        {
          "output_type": "stream",
          "name": "stdout",
          "text": [
            "root\n",
            " |-- fecha reporte web: string (nullable = true)\n",
            " |-- ID de caso: integer (nullable = true)\n",
            " |-- Fecha de notificación: string (nullable = true)\n",
            " |-- Código DIVIPOLA departamento: integer (nullable = true)\n",
            " |-- Nombre departamento: string (nullable = true)\n",
            " |-- Código DIVIPOLA municipio: integer (nullable = true)\n",
            " |-- Nombre municipio: string (nullable = true)\n",
            " |-- Edad: integer (nullable = true)\n",
            " |-- Unidad de medida de edad: integer (nullable = true)\n",
            " |-- Sexo: string (nullable = true)\n",
            " |-- Tipo de contagio: string (nullable = true)\n",
            " |-- Ubicación del caso: string (nullable = true)\n",
            " |-- Estado: string (nullable = true)\n",
            " |-- Código ISO del país: integer (nullable = true)\n",
            " |-- Nombre del país: string (nullable = true)\n",
            " |-- Recuperado: string (nullable = true)\n",
            " |-- Fecha de inicio de síntomas: string (nullable = true)\n",
            " |-- Fecha de muerte: string (nullable = true)\n",
            " |-- Fecha de diagnóstico: string (nullable = true)\n",
            " |-- Fecha de recuperación: string (nullable = true)\n",
            " |-- Tipo de recuperación: string (nullable = true)\n",
            " |-- Pertenencia étnica: integer (nullable = true)\n",
            " |-- Nombre del grupo étnico: string (nullable = true)\n",
            "\n"
          ]
        }
      ],
      "source": [
        "#printSchema\n",
        "df.printSchema()"
      ]
    },
    {
      "cell_type": "code",
      "source": [
        "df.select('ID de caso', 'fecha reporte web', 'Fecha de notificación', 'Sexo').show(4)"
      ],
      "metadata": {
        "colab": {
          "base_uri": "https://localhost:8080/"
        },
        "id": "7w-66ngGTkkk",
        "outputId": "43337249-1888-42d1-fddb-77f9da09cd32"
      },
      "execution_count": 12,
      "outputs": [
        {
          "output_type": "stream",
          "name": "stdout",
          "text": [
            "+----------+-----------------+---------------------+----+\n",
            "|ID de caso|fecha reporte web|Fecha de notificación|Sexo|\n",
            "+----------+-----------------+---------------------+----+\n",
            "|         1| 6/3/2020 0:00:00|     2/3/2020 0:00:00|   F|\n",
            "|         2| 9/3/2020 0:00:00|     6/3/2020 0:00:00|   M|\n",
            "|         3| 9/3/2020 0:00:00|     7/3/2020 0:00:00|   F|\n",
            "|         4|11/3/2020 0:00:00|     9/3/2020 0:00:00|   M|\n",
            "+----------+-----------------+---------------------+----+\n",
            "only showing top 4 rows\n",
            "\n"
          ]
        }
      ]
    },
    {
      "cell_type": "code",
      "source": [
        "df.select('Nombre Departamento', 'Edad').withColumnRenamed('Nombre Departamento', 'Dep').show(5)"
      ],
      "metadata": {
        "colab": {
          "base_uri": "https://localhost:8080/"
        },
        "id": "t8ceESCkUS0x",
        "outputId": "368cea12-4dae-4de2-84c8-3054d8dbfcee"
      },
      "execution_count": 18,
      "outputs": [
        {
          "output_type": "stream",
          "name": "stdout",
          "text": [
            "+---------+----+\n",
            "|      Dep|Edad|\n",
            "+---------+----+\n",
            "|   BOGOTA|  19|\n",
            "|    VALLE|  34|\n",
            "|ANTIOQUIA|  50|\n",
            "|ANTIOQUIA|  55|\n",
            "|ANTIOQUIA|  25|\n",
            "+---------+----+\n",
            "only showing top 5 rows\n",
            "\n"
          ]
        }
      ]
    },
    {
      "cell_type": "code",
      "source": [
        "df.select('ID de caso', 'Fecha de recuperación', 'Edad').withColumn(\"Edad luego 10 años\",(df[\"Edad\"]+10)).show(10,False)"
      ],
      "metadata": {
        "colab": {
          "base_uri": "https://localhost:8080/"
        },
        "id": "jM68dWoXV9TV",
        "outputId": "1c53daba-33f6-4eb3-ac7e-2a34a9d18590"
      },
      "execution_count": 24,
      "outputs": [
        {
          "output_type": "stream",
          "name": "stdout",
          "text": [
            "+----------+---------------------+----+------------------+\n",
            "|ID de caso|Fecha de recuperación|Edad|Edad luego 10 años|\n",
            "+----------+---------------------+----+------------------+\n",
            "|1         |13/3/2020 0:00:00    |19  |29                |\n",
            "|2         |19/3/2020 0:00:00    |34  |44                |\n",
            "|3         |15/3/2020 0:00:00    |50  |60                |\n",
            "|4         |26/3/2020 0:00:00    |55  |65                |\n",
            "|5         |23/3/2020 0:00:00    |25  |35                |\n",
            "|6         |26/3/2020 0:00:00    |27  |37                |\n",
            "|7         |17/3/2020 0:00:00    |85  |95                |\n",
            "|8         |21/3/2020 0:00:00    |22  |32                |\n",
            "|9         |23/3/2020 0:00:00    |28  |38                |\n",
            "|10        |21/3/2020 0:00:00    |36  |46                |\n",
            "+----------+---------------------+----+------------------+\n",
            "only showing top 10 rows\n",
            "\n"
          ]
        }
      ]
    },
    {
      "cell_type": "code",
      "source": [
        "df.select('ID de caso', 'Fecha de recuperación').drop('ID de caso', 'fecha de recuperacion').show(5)"
      ],
      "metadata": {
        "colab": {
          "base_uri": "https://localhost:8080/"
        },
        "id": "13YbhxPaXN6C",
        "outputId": "1ed532e5-85b3-4050-d5c3-6f193eb2685b"
      },
      "execution_count": 25,
      "outputs": [
        {
          "output_type": "stream",
          "name": "stdout",
          "text": [
            "+---------------------+\n",
            "|Fecha de recuperación|\n",
            "+---------------------+\n",
            "|    13/3/2020 0:00:00|\n",
            "|    19/3/2020 0:00:00|\n",
            "|    15/3/2020 0:00:00|\n",
            "|    26/3/2020 0:00:00|\n",
            "|    23/3/2020 0:00:00|\n",
            "+---------------------+\n",
            "only showing top 5 rows\n",
            "\n"
          ]
        }
      ]
    },
    {
      "cell_type": "code",
      "source": [
        "df.filter(df['Edad']=='19').show(5)"
      ],
      "metadata": {
        "colab": {
          "base_uri": "https://localhost:8080/"
        },
        "id": "YzxlnAdbXocc",
        "outputId": "f167975a-2e5e-4da2-dd06-9c0e18cad55a"
      },
      "execution_count": 26,
      "outputs": [
        {
          "output_type": "stream",
          "name": "stdout",
          "text": [
            "+-----------------+----------+---------------------+----------------------------+-------------------+-------------------------+----------------+----+------------------------+----+----------------+------------------+------+-------------------+--------------------+----------+---------------------------+---------------+--------------------+---------------------+--------------------+------------------+-----------------------+\n",
            "|fecha reporte web|ID de caso|Fecha de notificación|Código DIVIPOLA departamento|Nombre departamento|Código DIVIPOLA municipio|Nombre municipio|Edad|Unidad de medida de edad|Sexo|Tipo de contagio|Ubicación del caso|Estado|Código ISO del país|     Nombre del país|Recuperado|Fecha de inicio de síntomas|Fecha de muerte|Fecha de diagnóstico|Fecha de recuperación|Tipo de recuperación|Pertenencia étnica|Nombre del grupo étnico|\n",
            "+-----------------+----------+---------------------+----------------------------+-------------------+-------------------------+----------------+----+------------------------+----+----------------+------------------+------+-------------------+--------------------+----------+---------------------------+---------------+--------------------+---------------------+--------------------+------------------+-----------------------+\n",
            "| 6/3/2020 0:00:00|         1|     2/3/2020 0:00:00|                          11|             BOGOTA|                    11001|          BOGOTA|  19|                       1|   F|       Importado|              Casa|  Leve|                380|              ITALIA|Recuperado|          27/2/2020 0:00:00|           null|    6/3/2020 0:00:00|    13/3/2020 0:00:00|                 PCR|                 6|                   null|\n",
            "|22/3/2020 0:00:00|       224|    19/3/2020 0:00:00|                          73|             TOLIMA|                    73001|          IBAGUE|  19|                       1|   M|     Relacionado|              Casa|  Leve|               null|                null|Recuperado|          16/3/2020 0:00:00|           null|   22/3/2020 0:00:00|    31/3/2020 0:00:00|                 PCR|                 6|                   null|\n",
            "|23/3/2020 0:00:00|       255|    21/3/2020 0:00:00|                          11|             BOGOTA|                    11001|          BOGOTA|  19|                       1|   F|       Importado|              Casa|  Leve|                840|ESTADOS UNIDOS DE...|Recuperado|          18/3/2020 0:00:00|           null|   23/3/2020 0:00:00|     6/4/2020 0:00:00|                 PCR|                 6|                   null|\n",
            "|24/3/2020 0:00:00|       325|    20/3/2020 0:00:00|                        8001|       BARRANQUILLA|                     8001|    BARRANQUILLA|  19|                       1|   F|       Importado|              Casa|  Leve|                724|              ESPAÑA|Recuperado|          17/3/2020 0:00:00|           null|   24/3/2020 0:00:00|     3/4/2020 0:00:00|                 PCR|                 6|                   null|\n",
            "|25/3/2020 0:00:00|       435|    22/3/2020 0:00:00|                          63|            QUINDIO|                    63001|         ARMENIA|  19|                       1|   M|     Relacionado|              Casa|  Leve|               null|                null|Recuperado|          21/3/2020 0:00:00|           null|   25/3/2020 0:00:00|     4/4/2020 0:00:00|                 PCR|                 6|                   null|\n",
            "+-----------------+----------+---------------------+----------------------------+-------------------+-------------------------+----------------+----+------------------------+----+----------------+------------------+------+-------------------+--------------------+----------+---------------------------+---------------+--------------------+---------------------+--------------------+------------------+-----------------------+\n",
            "only showing top 5 rows\n",
            "\n"
          ]
        }
      ]
    },
    {
      "cell_type": "code",
      "source": [
        "from pyspark.sql.functions import udf"
      ],
      "metadata": {
        "id": "Q5B4ZWXxX5cn"
      },
      "execution_count": 27,
      "outputs": []
    },
    {
      "cell_type": "code",
      "source": [
        "from pyspark.sql.types import StringType"
      ],
      "metadata": {
        "id": "-uIdUuN-YXua"
      },
      "execution_count": 28,
      "outputs": []
    },
    {
      "cell_type": "code",
      "source": [
        "def menores_de_edad(Edad):\n",
        "  if Edad >= '18':\n",
        "    return \"ERES MAYOR DE EDAD\"\n",
        "  else:\n",
        "    return \"No eres mayor de edad\" "
      ],
      "metadata": {
        "id": "0onlDslLZoHM"
      },
      "execution_count": 29,
      "outputs": []
    },
    {
      "cell_type": "code",
      "source": [
        "eda_udf=udf(menores_de_edad,StringType())\n",
        "df.select('Edad', 'Sexo').withColumn('Edades totales', eda_udf(df['Sexo'])).show(5)"
      ],
      "metadata": {
        "colab": {
          "base_uri": "https://localhost:8080/"
        },
        "id": "KKZDgUXnaLm7",
        "outputId": "379d8841-c053-40c1-8ed8-abeb28f0dfad"
      },
      "execution_count": 30,
      "outputs": [
        {
          "output_type": "stream",
          "name": "stdout",
          "text": [
            "+----+----+------------------+\n",
            "|Edad|Sexo|    Edades totales|\n",
            "+----+----+------------------+\n",
            "|  19|   F|ERES MAYOR DE EDAD|\n",
            "|  34|   M|ERES MAYOR DE EDAD|\n",
            "|  50|   F|ERES MAYOR DE EDAD|\n",
            "|  55|   M|ERES MAYOR DE EDAD|\n",
            "|  25|   M|ERES MAYOR DE EDAD|\n",
            "+----+----+------------------+\n",
            "only showing top 5 rows\n",
            "\n"
          ]
        }
      ]
    },
    {
      "cell_type": "code",
      "source": [
        "df.groupBy('Nombre departamento').count().orderBy('count',ascending=False).show(10,False)"
      ],
      "metadata": {
        "colab": {
          "base_uri": "https://localhost:8080/"
        },
        "id": "cViYF6OJdmH0",
        "outputId": "82b08b38-8b8d-4c84-f476-6d7ab4582ddb"
      },
      "execution_count": 33,
      "outputs": [
        {
          "output_type": "stream",
          "name": "stdout",
          "text": [
            "+-------------------+-----+\n",
            "|Nombre departamento|count|\n",
            "+-------------------+-----+\n",
            "|BOGOTA             |30016|\n",
            "|BARRANQUILLA       |13065|\n",
            "|ATLANTICO          |10994|\n",
            "|VALLE              |10404|\n",
            "|CARTAGENA          |8333 |\n",
            "|ANTIOQUIA          |4554 |\n",
            "|NARIÑO             |3520 |\n",
            "|CUNDINAMARCA       |2827 |\n",
            "|AMAZONAS           |2317 |\n",
            "|CHOCO              |1636 |\n",
            "+-------------------+-----+\n",
            "only showing top 10 rows\n",
            "\n"
          ]
        }
      ]
    },
    {
      "cell_type": "code",
      "source": [
        "df.groupBy('Nombre municipio').count().orderBy('count',ascending=False).show(10,False)"
      ],
      "metadata": {
        "colab": {
          "base_uri": "https://localhost:8080/"
        },
        "id": "-PTG_PRleF5M",
        "outputId": "cfd0e511-e10c-4b54-a31a-ae2d92cc5675"
      },
      "execution_count": 34,
      "outputs": [
        {
          "output_type": "stream",
          "name": "stdout",
          "text": [
            "+----------------+-----+\n",
            "|Nombre municipio|count|\n",
            "+----------------+-----+\n",
            "|BOGOTA          |30016|\n",
            "|BARRANQUILLA    |13065|\n",
            "|CARTAGENA       |8333 |\n",
            "|CALI            |7747 |\n",
            "|SOLEDAD         |6233 |\n",
            "|LETICIA         |2194 |\n",
            "|MEDELLIN        |2137 |\n",
            "|TUMACO          |1501 |\n",
            "|BUENAVENTURA    |1453 |\n",
            "|QUIBDO          |1367 |\n",
            "+----------------+-----+\n",
            "only showing top 10 rows\n",
            "\n"
          ]
        }
      ]
    },
    {
      "cell_type": "code",
      "source": [
        "df.groupBy('Fecha de notificación').count().orderBy('count',ascending=False).show(10,False)"
      ],
      "metadata": {
        "colab": {
          "base_uri": "https://localhost:8080/"
        },
        "id": "AXkxiiU1e5Sz",
        "outputId": "b841dedd-56a3-4a5c-85c3-1b8aad01b075"
      },
      "execution_count": 35,
      "outputs": [
        {
          "output_type": "stream",
          "name": "stdout",
          "text": [
            "+---------------------+-----+\n",
            "|Fecha de notificación|count|\n",
            "+---------------------+-----+\n",
            "|18/6/2020 0:00:00    |3477 |\n",
            "|19/6/2020 0:00:00    |3328 |\n",
            "|17/6/2020 0:00:00    |3318 |\n",
            "|16/6/2020 0:00:00    |3232 |\n",
            "|23/6/2020 0:00:00    |3230 |\n",
            "|11/6/2020 0:00:00    |2747 |\n",
            "|20/6/2020 0:00:00    |2684 |\n",
            "|12/6/2020 0:00:00    |2679 |\n",
            "|10/6/2020 0:00:00    |2650 |\n",
            "|24/6/2020 0:00:00    |2599 |\n",
            "+---------------------+-----+\n",
            "only showing top 10 rows\n",
            "\n"
          ]
        }
      ]
    },
    {
      "cell_type": "code",
      "source": [
        "df.groupBy('Edad').count().orderBy('Edad',ascending=True).show()"
      ],
      "metadata": {
        "colab": {
          "base_uri": "https://localhost:8080/"
        },
        "id": "23OfrE9dfG0i",
        "outputId": "4d9c188e-7ae0-45a3-dfcd-a071fe31b1f2"
      },
      "execution_count": 36,
      "outputs": [
        {
          "output_type": "stream",
          "name": "stdout",
          "text": [
            "+----+-----+\n",
            "|Edad|count|\n",
            "+----+-----+\n",
            "|   1|  485|\n",
            "|   2|  440|\n",
            "|   3|  449|\n",
            "|   4|  373|\n",
            "|   5|  425|\n",
            "|   6|  431|\n",
            "|   7|  442|\n",
            "|   8|  461|\n",
            "|   9|  467|\n",
            "|  10|  530|\n",
            "|  11|  566|\n",
            "|  12|  562|\n",
            "|  13|  531|\n",
            "|  14|  580|\n",
            "|  15|  560|\n",
            "|  16|  600|\n",
            "|  17|  685|\n",
            "|  18| 1160|\n",
            "|  19| 1567|\n",
            "|  20| 1674|\n",
            "+----+-----+\n",
            "only showing top 20 rows\n",
            "\n"
          ]
        }
      ]
    },
    {
      "cell_type": "code",
      "source": [
        "df.groupBy('Estado').count().orderBy('Estado',ascending=True).show()"
      ],
      "metadata": {
        "colab": {
          "base_uri": "https://localhost:8080/"
        },
        "id": "GncgGG8mfrW4",
        "outputId": "cd2dbb64-4d35-48a0-aee3-815470019b5e"
      },
      "execution_count": 37,
      "outputs": [
        {
          "output_type": "stream",
          "name": "stdout",
          "text": [
            "+---------+-----+\n",
            "|   Estado|count|\n",
            "+---------+-----+\n",
            "|Fallecido| 4663|\n",
            "|     Leve|94367|\n",
            "|      N/A|  970|\n",
            "+---------+-----+\n",
            "\n"
          ]
        }
      ]
    },
    {
      "cell_type": "code",
      "source": [
        "# In Python\n",
        "from pyspark.sql import SparkSession\n",
        "# Create a SparkSession\n",
        "spark = (SparkSession\n",
        "  .builder\n",
        "  .appName(\"SparkSQLExampleApp\")\n",
        "  .getOrCreate())\n",
        "# Path to data set\n",
        "csv_file = \"/content/gdrive/MyDrive/st0263-2266/bigdata/datasets/covid19/Casos_positivos_de_COVID-19_en_Colombia-100K.csv\"\n",
        "# Read and create a temporary view\n",
        "# Infer schema (note that for larger files you \n",
        "# may want to specify the schema)\n",
        "df = (spark.read.format(\"csv\")\n",
        "  .option(\"inferSchema\", \"true\")\n",
        "  .option(\"header\", \"true\")\n",
        "  .load(csv_file))\n",
        "df.createOrReplaceTempView(\"CASOS\")"
      ],
      "metadata": {
        "id": "lNgjj_LviJSF"
      },
      "execution_count": 46,
      "outputs": []
    },
    {
      "cell_type": "code",
      "source": [
        "spark.sql(\"\"\"SELECT Edad, COUNT(*) FROM CASOS GROUP BY Edad\"\"\").show(10)"
      ],
      "metadata": {
        "colab": {
          "base_uri": "https://localhost:8080/"
        },
        "id": "JK6HQCD1lStw",
        "outputId": "4dfceb51-4d0b-4254-8ac0-7660377d1224"
      },
      "execution_count": 53,
      "outputs": [
        {
          "output_type": "stream",
          "name": "stdout",
          "text": [
            "+----+--------+\n",
            "|Edad|count(1)|\n",
            "+----+--------+\n",
            "|  31|    2569|\n",
            "|  85|     224|\n",
            "|  65|     736|\n",
            "|  53|    1307|\n",
            "|  78|     346|\n",
            "|  34|    2310|\n",
            "| 101|       1|\n",
            "|  81|     275|\n",
            "|  28|    2540|\n",
            "|  76|     361|\n",
            "+----+--------+\n",
            "only showing top 10 rows\n",
            "\n"
          ]
        }
      ]
    },
    {
      "cell_type": "code",
      "source": [
        "spark.sql(\"\"\"SELECT `Nombre departamento`, COUNT(*) FROM CASOS GROUP BY `Nombre departamento` ORDER BY 2  DESC\"\"\").show(10)"
      ],
      "metadata": {
        "colab": {
          "base_uri": "https://localhost:8080/"
        },
        "id": "ITZqk-bvkHNt",
        "outputId": "ed40adab-8c9f-4589-d73e-1372afe95985"
      },
      "execution_count": 52,
      "outputs": [
        {
          "output_type": "stream",
          "name": "stdout",
          "text": [
            "+-------------------+--------+\n",
            "|Nombre departamento|count(1)|\n",
            "+-------------------+--------+\n",
            "|             BOGOTA|   30016|\n",
            "|       BARRANQUILLA|   13065|\n",
            "|          ATLANTICO|   10994|\n",
            "|              VALLE|   10404|\n",
            "|          CARTAGENA|    8333|\n",
            "|          ANTIOQUIA|    4554|\n",
            "|             NARIÑO|    3520|\n",
            "|       CUNDINAMARCA|    2827|\n",
            "|           AMAZONAS|    2317|\n",
            "|              CHOCO|    1636|\n",
            "+-------------------+--------+\n",
            "only showing top 10 rows\n",
            "\n"
          ]
        }
      ]
    },
    {
      "cell_type": "code",
      "source": [
        "spark.sql(\"\"\"SELECT `Nombre municipio`, COUNT(*) FROM CASOS GROUP BY `Nombre municipio` ORDER BY 2  DESC\"\"\").show(10)"
      ],
      "metadata": {
        "colab": {
          "base_uri": "https://localhost:8080/"
        },
        "id": "KbNaZoVtle8p",
        "outputId": "d7ac8ee0-4a70-48bf-dbcb-78fe0908190b"
      },
      "execution_count": 54,
      "outputs": [
        {
          "output_type": "stream",
          "name": "stdout",
          "text": [
            "+----------------+--------+\n",
            "|Nombre municipio|count(1)|\n",
            "+----------------+--------+\n",
            "|          BOGOTA|   30016|\n",
            "|    BARRANQUILLA|   13065|\n",
            "|       CARTAGENA|    8333|\n",
            "|            CALI|    7747|\n",
            "|         SOLEDAD|    6233|\n",
            "|         LETICIA|    2194|\n",
            "|        MEDELLIN|    2137|\n",
            "|          TUMACO|    1501|\n",
            "|    BUENAVENTURA|    1453|\n",
            "|          QUIBDO|    1367|\n",
            "+----------------+--------+\n",
            "only showing top 10 rows\n",
            "\n"
          ]
        }
      ]
    },
    {
      "cell_type": "code",
      "source": [
        "spark.sql(\"\"\"SELECT `Fecha de notificación`, COUNT(*) FROM CASOS GROUP BY `Fecha de notificación` ORDER BY 2  DESC\"\"\").show(10)"
      ],
      "metadata": {
        "colab": {
          "base_uri": "https://localhost:8080/"
        },
        "id": "IIzsd5fjltGB",
        "outputId": "3e4657bb-6749-4661-b418-c125a717e59c"
      },
      "execution_count": 55,
      "outputs": [
        {
          "output_type": "stream",
          "name": "stdout",
          "text": [
            "+---------------------+--------+\n",
            "|Fecha de notificación|count(1)|\n",
            "+---------------------+--------+\n",
            "|    18/6/2020 0:00:00|    3477|\n",
            "|    19/6/2020 0:00:00|    3328|\n",
            "|    17/6/2020 0:00:00|    3318|\n",
            "|    16/6/2020 0:00:00|    3232|\n",
            "|    23/6/2020 0:00:00|    3230|\n",
            "|    11/6/2020 0:00:00|    2747|\n",
            "|    20/6/2020 0:00:00|    2684|\n",
            "|    12/6/2020 0:00:00|    2679|\n",
            "|    10/6/2020 0:00:00|    2650|\n",
            "|    24/6/2020 0:00:00|    2599|\n",
            "+---------------------+--------+\n",
            "only showing top 10 rows\n",
            "\n"
          ]
        }
      ]
    },
    {
      "cell_type": "code",
      "source": [
        "spark.sql(\"\"\"SELECT `Estado`, COUNT(*) FROM CASOS GROUP BY `Estado` ORDER BY 2  DESC\"\"\").show(10)"
      ],
      "metadata": {
        "colab": {
          "base_uri": "https://localhost:8080/"
        },
        "id": "PI2ylZghmUeA",
        "outputId": "31ec5696-6856-493f-8511-0fa59c41312f"
      },
      "execution_count": 56,
      "outputs": [
        {
          "output_type": "stream",
          "name": "stdout",
          "text": [
            "+---------+--------+\n",
            "|   Estado|count(1)|\n",
            "+---------+--------+\n",
            "|     Leve|   94367|\n",
            "|Fallecido|    4663|\n",
            "|      N/A|     970|\n",
            "+---------+--------+\n",
            "\n"
          ]
        }
      ]
    }
  ],
  "metadata": {
    "kernelspec": {
      "display_name": "Python 3.10.8 64-bit",
      "language": "python",
      "name": "python3"
    },
    "language_info": {
      "codemirror_mode": {
        "name": "ipython",
        "version": 3
      },
      "file_extension": ".py",
      "mimetype": "text/x-python",
      "name": "python",
      "nbconvert_exporter": "python",
      "pygments_lexer": "ipython3",
      "version": "3.10.8"
    },
    "vscode": {
      "interpreter": {
        "hash": "aee8b7b246df8f9039afb4144a1f6fd8d2ca17a180786b69acc140d282b71a49"
      }
    },
    "colab": {
      "provenance": []
    }
  },
  "nbformat": 4,
  "nbformat_minor": 0
}